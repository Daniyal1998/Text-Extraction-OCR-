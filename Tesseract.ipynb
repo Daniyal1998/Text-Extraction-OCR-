{
 "cells": [
  {
   "cell_type": "code",
   "execution_count": 5,
   "metadata": {},
   "outputs": [
    {
     "name": "stderr",
     "output_type": "stream",
     "text": [
      "usage: ipykernel_launcher.py [-h] -i IMAGE [-p PREPROCESS]\n",
      "ipykernel_launcher.py: error: the following arguments are required: -i/--image\n"
     ]
    },
    {
     "ename": "SystemExit",
     "evalue": "2",
     "output_type": "error",
     "traceback": [
      "An exception has occurred, use %tb to see the full traceback.\n",
      "\u001b[1;31mSystemExit\u001b[0m\u001b[1;31m:\u001b[0m 2\n"
     ]
    }
   ],
   "source": [
    "# import the necessary packages\n",
    "from PIL import Image\n",
    "import pytesseract\n",
    "import argparse\n",
    "import cv2\n",
    "import os\n",
    " \n",
    "# construct the argument parse and parse the arguments\n",
    "ap = argparse.ArgumentParser()\n",
    "ap.add_argument(\"-i\", \"--image\", required=True,\n",
    "\thelp=\"path to input image to be OCR'd\")\n",
    "ap.add_argument(\"-p\", \"--preprocess\", type=str, default=\"thresh\",\n",
    "\thelp=\"type of preprocessing to be done\")\n",
    "args = vars(ap.parse_args())"
   ]
  },
  {
   "cell_type": "code",
   "execution_count": 6,
   "metadata": {},
   "outputs": [
    {
     "ename": "NameError",
     "evalue": "name 'args' is not defined",
     "output_type": "error",
     "traceback": [
      "\u001b[1;31m---------------------------------------------------------------------------\u001b[0m",
      "\u001b[1;31mNameError\u001b[0m                                 Traceback (most recent call last)",
      "\u001b[1;32m<ipython-input-6-e22dc9d0eb79>\u001b[0m in \u001b[0;36m<module>\u001b[1;34m\u001b[0m\n\u001b[0;32m      1\u001b[0m \u001b[1;31m# load the example image and convert it to grayscale\u001b[0m\u001b[1;33m\u001b[0m\u001b[1;33m\u001b[0m\u001b[1;33m\u001b[0m\u001b[0m\n\u001b[1;32m----> 2\u001b[1;33m \u001b[0mimage\u001b[0m \u001b[1;33m=\u001b[0m \u001b[0mcv2\u001b[0m\u001b[1;33m.\u001b[0m\u001b[0mimread\u001b[0m\u001b[1;33m(\u001b[0m\u001b[0margs\u001b[0m\u001b[1;33m[\u001b[0m\u001b[1;34m\"image\"\u001b[0m\u001b[1;33m]\u001b[0m\u001b[1;33m)\u001b[0m\u001b[1;33m\u001b[0m\u001b[1;33m\u001b[0m\u001b[0m\n\u001b[0m\u001b[0;32m      3\u001b[0m \u001b[0mgray\u001b[0m \u001b[1;33m=\u001b[0m \u001b[0mcv2\u001b[0m\u001b[1;33m.\u001b[0m\u001b[0mcvtColor\u001b[0m\u001b[1;33m(\u001b[0m\u001b[0mimage\u001b[0m\u001b[1;33m,\u001b[0m \u001b[0mcv2\u001b[0m\u001b[1;33m.\u001b[0m\u001b[0mCOLOR_BGR2GRAY\u001b[0m\u001b[1;33m)\u001b[0m\u001b[1;33m\u001b[0m\u001b[1;33m\u001b[0m\u001b[0m\n\u001b[0;32m      4\u001b[0m \u001b[1;33m\u001b[0m\u001b[0m\n\u001b[0;32m      5\u001b[0m \u001b[1;31m# check to see if we should apply thresholding to preprocess the\u001b[0m\u001b[1;33m\u001b[0m\u001b[1;33m\u001b[0m\u001b[1;33m\u001b[0m\u001b[0m\n",
      "\u001b[1;31mNameError\u001b[0m: name 'args' is not defined"
     ]
    }
   ],
   "source": [
    "# load the example image and convert it to grayscale\n",
    "image = cv2.imread(args[\"image\"])\n",
    "gray = cv2.cvtColor(image, cv2.COLOR_BGR2GRAY)\n",
    " \n",
    "# check to see if we should apply thresholding to preprocess the\n",
    "# image\n",
    "if args[\"preprocess\"] == \"thresh\":\n",
    "\tgray = cv2.threshold(gray, 0, 255,\n",
    "\t\tcv2.THRESH_BINARY | cv2.THRESH_OTSU)[1]\n",
    " \n",
    "# make a check to see if median blurring should be done to remove\n",
    "# noise\n",
    "elif args[\"preprocess\"] == \"blur\":\n",
    "\tgray = cv2.medianBlur(gray, 3)\n",
    " \n",
    "# write the grayscale image to disk as a temporary file so we can\n",
    "# apply OCR to it\n",
    "filename = \"{}.png\".format(os.getpid())\n",
    "cv2.imwrite(filename, gray)"
   ]
  },
  {
   "cell_type": "code",
   "execution_count": 7,
   "metadata": {},
   "outputs": [
    {
     "ename": "NameError",
     "evalue": "name 'filename' is not defined",
     "output_type": "error",
     "traceback": [
      "\u001b[1;31m---------------------------------------------------------------------------\u001b[0m",
      "\u001b[1;31mNameError\u001b[0m                                 Traceback (most recent call last)",
      "\u001b[1;32m<ipython-input-7-ad9d0b79317c>\u001b[0m in \u001b[0;36m<module>\u001b[1;34m\u001b[0m\n\u001b[0;32m      1\u001b[0m \u001b[1;31m# load the image as a PIL/Pillow image, apply OCR, and then delete\u001b[0m\u001b[1;33m\u001b[0m\u001b[1;33m\u001b[0m\u001b[1;33m\u001b[0m\u001b[0m\n\u001b[0;32m      2\u001b[0m \u001b[1;31m# the temporary file\u001b[0m\u001b[1;33m\u001b[0m\u001b[1;33m\u001b[0m\u001b[1;33m\u001b[0m\u001b[0m\n\u001b[1;32m----> 3\u001b[1;33m \u001b[0mtext\u001b[0m \u001b[1;33m=\u001b[0m \u001b[0mpytesseract\u001b[0m\u001b[1;33m.\u001b[0m\u001b[0mimage_to_string\u001b[0m\u001b[1;33m(\u001b[0m\u001b[0mImage\u001b[0m\u001b[1;33m.\u001b[0m\u001b[0mopen\u001b[0m\u001b[1;33m(\u001b[0m\u001b[0mfilename\u001b[0m\u001b[1;33m)\u001b[0m\u001b[1;33m)\u001b[0m\u001b[1;33m\u001b[0m\u001b[1;33m\u001b[0m\u001b[0m\n\u001b[0m\u001b[0;32m      4\u001b[0m \u001b[0mos\u001b[0m\u001b[1;33m.\u001b[0m\u001b[0mremove\u001b[0m\u001b[1;33m(\u001b[0m\u001b[0mfilename\u001b[0m\u001b[1;33m)\u001b[0m\u001b[1;33m\u001b[0m\u001b[1;33m\u001b[0m\u001b[0m\n\u001b[0;32m      5\u001b[0m \u001b[0mprint\u001b[0m\u001b[1;33m(\u001b[0m\u001b[0mtext\u001b[0m\u001b[1;33m)\u001b[0m\u001b[1;33m\u001b[0m\u001b[1;33m\u001b[0m\u001b[0m\n",
      "\u001b[1;31mNameError\u001b[0m: name 'filename' is not defined"
     ]
    }
   ],
   "source": [
    "# load the image as a PIL/Pillow image, apply OCR, and then delete\n",
    "# the temporary file\n",
    "text = pytesseract.image_to_string(Image.open(filename))\n",
    "os.remove(filename)\n",
    "print(text)\n",
    " \n",
    "# show the output images\n",
    "cv2.imshow(\"Image\", image)\n",
    "cv2.imshow(\"Output\", gray)\n",
    "cv2.waitKey(0)"
   ]
  },
  {
   "cell_type": "code",
   "execution_count": 12,
   "metadata": {},
   "outputs": [
    {
     "name": "stdout",
     "output_type": "stream",
     "text": [
      "The Values Wall\n",
      "\n",
      "[At Meeting Tomorrow we take our company core values seriously. We hire people who embody these\n",
      "ideals and a prominent Values Wall located near the front door of the office reminds us why we're here\n",
      "(for ourselves, each other, and our customers) every day.\n",
      "\n",
      "‘The Wall is an ever-evolving, collaborative effort. There's always paper, pens and thumbtacks available\n",
      "nearby so that anyone can add a note recognizing a peer for something specific they've done related to\n",
      "‘one of our three core values:\n",
      "\n",
      "‘Commitment, Kindness, Humility\n",
      "‘What do these words mean? Here are the literal definitions according to Merriam-Webster’s Dictionary.\n",
      "‘Commitment: the attitude of someone who works very hard to do or support something\n",
      "\n",
      "Kindness: having or showing a gentle nature and a desire to help others; wanting and liking to do good\n",
      "things and to bring happiness to others\n",
      "\n",
      "Humility: the quality or state of not thinking you are better than other people\n",
      "Now, more importantly, what do these words mean to us? Here are some examples from our Wall\n",
      "‘Commitment:\n",
      "\n",
      "Making everyone’slives a little bit easier\n",
      "Being an out of office contact for someone - You have to manage your own business & someone\n",
      "else's.\n",
      "\n",
      "Eating all of the fridge purge garbage to minimize waste — what a guy!\n",
      "\n",
      "(Our after-hours team is committed to making sure our clients have everything they need~ no\n",
      "matter the hour!\n",
      "\n",
      "Getting me up to speed as a trainee and having never-ending positivity\n",
      "\n",
      "“The warehouse team stays late ALL THE TIME to ship out orders\n",
      "\n",
      "Even with a newborn baby keepinghim up all night, staying late to put out firesand help out the\n",
      "team\n",
      "\n",
      "Kindness:\n",
      "\n",
      "‘Co-workers who go above and beyond when you are out of the office\n",
      "\n",
      "Getting all returned equipment checked in, but never seeking affirmation or recognition for it\n",
      "Staying late to help me jump my car when my battery died\n",
      "\n",
      "‘Stopping by each person’s desk just to say how are you? (and meaning it!)\n",
      "\n",
      "Caring a great deal about her team and showing it every day\n",
      "\n",
      "‘Coming to work and finding a “have a wonderful day” card on my desk\n",
      "\n",
      "Humility:\n"
     ]
    }
   ],
   "source": [
    "from PIL import Image\n",
    "from pytesseract import image_to_string\n",
    "\n",
    "print (image_to_string(Image.open('inter_doc.png')))\n",
    "#print (image_to_string(Image.open('test-english.jpg'), lang='eng'))"
   ]
  },
  {
   "cell_type": "code",
   "execution_count": 18,
   "metadata": {},
   "outputs": [
    {
     "ename": "SyntaxError",
     "evalue": "invalid syntax (<ipython-input-18-5b514cd94d10>, line 14)",
     "output_type": "error",
     "traceback": [
      "\u001b[1;36m  File \u001b[1;32m\"<ipython-input-18-5b514cd94d10>\"\u001b[1;36m, line \u001b[1;32m14\u001b[0m\n\u001b[1;33m    return images\u001b[0m\n\u001b[1;37m         ^\u001b[0m\n\u001b[1;31mSyntaxError\u001b[0m\u001b[1;31m:\u001b[0m invalid syntax\n"
     ]
    }
   ],
   "source": [
    "import cv2\n",
    "from PIL import Image\n",
    "from pytesseract import image_to_string\n",
    "import os, os.path\n",
    "\n",
    "def load_images_from_folder(folder):\n",
    "    images = []\n",
    "    valid_images = [\".jpg\",\".gif\",\".png\",\".tga\"]\n",
    "    for filename in os.listdir(folder):\n",
    "        ext = os.path.splitext(filename)[1]\n",
    "        if ext.lower() not in valid_images:\n",
    "            continue\n",
    "        images.append(Image.open(os.path.join(folder,filename))\n",
    "    return images\n",
    "\n",
    "# C:\\Users\\dell\\CitiProject\\imgfol\n",
    "\n",
    "\n",
    "\n",
    "if __name__== \"__main__\":\n",
    "    images = load_images_from_folder(r'C:\\Users\\dell\\CitiProject\\imgfol')\n",
    "    for i in images:\n",
    "        #print (image_to_string(Image.open(i)))\n",
    "        print (i)\n",
    "        print ('**********************************************')"
   ]
  },
  {
   "cell_type": "code",
   "execution_count": 25,
   "metadata": {},
   "outputs": [
    {
     "name": "stdout",
     "output_type": "stream",
     "text": [
      "C:\\Users\\dell\\CitiProject\\imgfol\\inter_doc.png\n",
      "C:\\Users\\dell\\CitiProject\\imgfol\\inter_doc2.png\n"
     ]
    }
   ],
   "source": [
    "from PIL import Image\n",
    "import glob\n",
    "image_list = []\n",
    "for filename in glob.glob(r'C:\\Users\\dell\\CitiProject\\imgfol/*.png'): #assuming gif\n",
    "    im=Image.open(filename)\n",
    "    image_list.append(im)\n",
    "    print(filename)"
   ]
  },
  {
   "cell_type": "code",
   "execution_count": 30,
   "metadata": {},
   "outputs": [
    {
     "name": "stdout",
     "output_type": "stream",
     "text": [
      "The Values Wall\n",
      "\n",
      "[At Meeting Tomorrow we take our company core values seriously. We hire people who embody these\n",
      "ideals and a prominent Values Wall located near the front door of the office reminds us why we're here\n",
      "(for ourselves, each other, and our customers) every day.\n",
      "\n",
      "‘The Wall is an ever-evolving, collaborative effort. There's always paper, pens and thumbtacks available\n",
      "nearby so that anyone can add a note recognizing a peer for something specific they've done related to\n",
      "‘one of our three core values:\n",
      "\n",
      "‘Commitment, Kindness, Humility\n",
      "‘What do these words mean? Here are the literal definitions according to Merriam-Webster’s Dictionary.\n",
      "‘Commitment: the attitude of someone who works very hard to do or support something\n",
      "\n",
      "Kindness: having or showing a gentle nature and a desire to help others; wanting and liking to do good\n",
      "things and to bring happiness to others\n",
      "\n",
      "Humility: the quality or state of not thinking you are better than other people\n",
      "Now, more importantly, what do these words mean to us? Here are some examples from our Wall\n",
      "‘Commitment:\n",
      "\n",
      "Making everyone’slives a little bit easier\n",
      "Being an out of office contact for someone - You have to manage your own business & someone\n",
      "else's.\n",
      "\n",
      "Eating all of the fridge purge garbage to minimize waste — what a guy!\n",
      "\n",
      "(Our after-hours team is committed to making sure our clients have everything they need~ no\n",
      "matter the hour!\n",
      "\n",
      "Getting me up to speed as a trainee and having never-ending positivity\n",
      "\n",
      "“The warehouse team stays late ALL THE TIME to ship out orders\n",
      "\n",
      "Even with a newborn baby keepinghim up all night, staying late to put out firesand help out the\n",
      "team\n",
      "\n",
      "Kindness:\n",
      "\n",
      "‘Co-workers who go above and beyond when you are out of the office\n",
      "\n",
      "Getting all returned equipment checked in, but never seeking affirmation or recognition for it\n",
      "Staying late to help me jump my car when my battery died\n",
      "\n",
      "‘Stopping by each person’s desk just to say how are you? (and meaning it!)\n",
      "\n",
      "Caring a great deal about her team and showing it every day\n",
      "\n",
      "‘Coming to work and finding a “have a wonderful day” card on my desk\n",
      "\n",
      "Humility:\n",
      "\n",
      "\n",
      "**********************************************\n",
      "Evidence of Foundation Competence- 2019\n",
      "\n",
      "Applicant Guide\n",
      "Introduction\n",
      "\n",
      "The national person specification for entry to all United Kingdom first year specialty training\n",
      "programmes requires applicants to provide evidence of achievement of Foundation Professional\n",
      "Capabilities within the 3.5 years prior to the commencement date for the post they are applying\n",
      "for, in line with GMC standards/Good Medical Practice, including:\n",
      "\n",
      "* Good clinical care\n",
      "\n",
      "* Maintaining good medical practice\n",
      "\n",
      "* Good relationships and communication with patients\n",
      "* Good working relationships with colleagues\n",
      "\n",
      "* Good teaching and training\n",
      "\n",
      "* Professional behaviour and probity\n",
      "\n",
      "* Delivery of good acute clinical care\n",
      "\n",
      "All applicants to specialty training at CT1/ST1 level must demonstrate all the professional\n",
      "capabilities described by the Foundation Curriculum, without exception, using the prescribed\n",
      "evidence as outlined below.\n",
      "\n",
      "Why do | need to demonstrate that | have achieved the Foundation Professional\n",
      "Capabilities?\n",
      "\n",
      "The possession of all Foundation Professional Capabilities is an essential criterion on all\n",
      "CT1/ST1 person specifications because they are needed to help successful applicants cope with,\n",
      "and progress through the clinical experience that forms part of their specialty training. They are\n",
      "key attributes that ensure patient safety — in particular those relating to the recognition and\n",
      "management of the acutely ill patient, resuscitation and end of life care\n",
      "\n",
      "CT1/ST1 posts are not configured to assess whether each new entrant possesses these\n",
      "professional capabilities — a process which would take several weeks. Instead they must\n",
      "assume their new starters possess them. This is true even of posts not directly involving acute\n",
      "medical care: often the only person on such units with recent experience of resuscitating a\n",
      "Patient is the CT1/ST1 trainee. It is also crucial that the submitted evidence is current. It is not\n",
      "sufficient to have achieved each professional capability once. Competences must be achieved.\n",
      "\n",
      "\n",
      "**********************************************\n"
     ]
    }
   ],
   "source": [
    "from PIL import Image\n",
    "import glob\n",
    "from pytesseract import image_to_string\n",
    "\n",
    "def load_images_from_folder(folder):\n",
    "    image_list = glob.glob(folder+'/*.png')\n",
    "    return image_list\n",
    "\n",
    "if __name__== \"__main__\":\n",
    "    images = load_images_from_folder(r'C:\\Users\\dell\\CitiProject\\imgfol')\n",
    "    for i in images:\n",
    "        print (image_to_string(Image.open(i)))\n",
    "        print ('')\n",
    "        print ('')\n",
    "        print ('**********************************************')"
   ]
  }
 ],
 "metadata": {
  "kernelspec": {
   "display_name": "Python 3",
   "language": "python",
   "name": "python3"
  },
  "language_info": {
   "codemirror_mode": {
    "name": "ipython",
    "version": 3
   },
   "file_extension": ".py",
   "mimetype": "text/x-python",
   "name": "python",
   "nbconvert_exporter": "python",
   "pygments_lexer": "ipython3",
   "version": "3.7.3"
  }
 },
 "nbformat": 4,
 "nbformat_minor": 2
}
